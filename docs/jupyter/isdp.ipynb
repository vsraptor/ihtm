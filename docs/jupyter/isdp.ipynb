{
 "cells": [
  {
   "cell_type": "markdown",
   "metadata": {},
   "source": [
    "### iSDP : indexed Semantic Distributed Pointers aka Symbols\n",
    "\n",
    "Before we start, let me mention that the isdp.py module has two interfaces : low level functions in **isdp** and Object oriented in **iSDP()**.\n",
    "\n",
    "iSDP class uses isdp functions for the basic functionality.\n",
    "As I already mentioned the whole project is based on indexed SDP:SDR, not on binary SDP:SDR.\n",
    "An iSDP is a numpy array which holds the indexes of the bits of a binary that have a value of ONE.\n",
    "(It is literally extending the numpy array class.)\n",
    "\n",
    "In addition it also has a attribute called **\"vsize\"** which sets the virtual size of the binary i.e. what is the maximum possible value of a index. \n",
    "\n",
    "**spa** and **spa_nbits** reflect the sparsity."
   ]
  },
  {
   "cell_type": "code",
   "execution_count": 1,
   "metadata": {},
   "outputs": [],
   "source": [
    "import sys\n",
    "sys.path.extend(['../../ilib'])\n",
    "from isdp import *"
   ]
  },
  {
   "cell_type": "markdown",
   "metadata": {},
   "source": [
    "We can create iSDP vector by specifying the virtual-size (vsize), and as a second parameter **vsn** pass a value (which can be a list of numbers, numpy array or another iSDP), sparsity % (as a float number) OR number of bits which are 1s (as an integer)."
   ]
  },
  {
   "cell_type": "code",
   "execution_count": 2,
   "metadata": {},
   "outputs": [
    {
     "name": "stdout",
     "output_type": "stream",
     "text": [
      "1000\n",
      "0.02\n",
      "20\n",
      "15:124:159:190:227:230:279:293:364:431:449:497:572:700:743:751:771:775:847:947\n"
     ]
    }
   ],
   "source": [
    "val = iSDP(vsize=1000, vsn=0.02)\n",
    "print val.vsize\n",
    "print val.spa\n",
    "print val.spa_nbits\n",
    "print val"
   ]
  },
  {
   "cell_type": "markdown",
   "metadata": {},
   "source": [
    "Shows us which bits are ON and the maximum is 1000.\n",
    "\n",
    "So we can create symbols and apply operations and transformations on them."
   ]
  },
  {
   "cell_type": "code",
   "execution_count": 3,
   "metadata": {},
   "outputs": [],
   "source": [
    "square = iSDP(vsize=1000, vsn=0.02)\n",
    "circle = iSDP(vsize=1000, vsn=0.02)\n",
    "rectangle = iSDP(vsize=1000, vsn=0.02)\n",
    "dot = iSDP(vsize=1000, vsn=0.02)"
   ]
  },
  {
   "cell_type": "markdown",
   "metadata": {},
   "source": [
    "#### Overlap vs similarity"
   ]
  },
  {
   "cell_type": "markdown",
   "metadata": {},
   "source": [
    "There are two ways of figuring how similar two symbols are !\n",
    "\n",
    "The first one is **OVERLAP** which is the count of 1-bits that are common between the symbols.\n",
    "\n",
    "Definitionaly it is **count(A AND B)**"
   ]
  },
  {
   "cell_type": "code",
   "execution_count": 4,
   "metadata": {},
   "outputs": [
    {
     "data": {
      "text/plain": [
       "1"
      ]
     },
     "execution_count": 4,
     "metadata": {},
     "output_type": "execute_result"
    }
   ],
   "source": [
    "square / circle"
   ]
  },
  {
   "cell_type": "markdown",
   "metadata": {},
   "source": [
    "... the overlap between the newly created symbols is ZERO or very small, which is what we may expect. We can generate new symbols all day long but the overlap between any two of them is guaranteed to be small as long as the SDP is big enough and sparse enough.\n",
    "\n",
    "> Said it another way the symbols are **ORTOGONAL**\n",
    "\n",
    "The second way to check similarity is to divide the OVERLAP to the count of the bits of one of the operands (left one in our case)\n",
    "\n",
    "      sim = olap(a,b) / count_ones(a)\n",
    "      \n",
    "this type of similarity is percentage rather than a number. Also it is asymetric if the operands have different sparsity. \n",
    "\n",
    "More on this in a moment..."
   ]
  },
  {
   "cell_type": "code",
   "execution_count": 5,
   "metadata": {},
   "outputs": [
    {
     "data": {
      "text/plain": [
       "0.050"
      ]
     },
     "execution_count": 5,
     "metadata": {},
     "output_type": "execute_result"
    }
   ],
   "source": [
    "square // circle"
   ]
  },
  {
   "cell_type": "markdown",
   "metadata": {},
   "source": [
    "### BASIC Operations\n",
    "\n",
    "There are three basic operations we can apply on SDP:SDR's : *union, concatenation and thinning*\n",
    "\n",
    "Here are what distinguish them :\n",
    "\n",
    "  1. **UNION** : as the name implies this op combines all the 1-bits. This is logical **OR** operation. What is important to remember about it is that **vsize** is preserved but the **sparsity** decreases (i.e. the SDP becomes more dense, more 1-bits)\n",
    "  \n",
    "  2. **CONCATENATION** : joins the SDP's, but also shifts the bits positions, so that every operand \"moves\" to the right in a sense in its own segment. Result, **vsize** increases and the **sparsity** stays the same.\n",
    "  \n",
    "  3. **THINNING** : picks randomly bits from the operands with equal probability. **vsize** and **sparsity** stay the same. The other option is to use Context Dependent Thinning (CDT) isdp.cdt().\n",
    "  \n",
    "Lets look in more detail :\n"
   ]
  },
  {
   "cell_type": "markdown",
   "metadata": {},
   "source": [
    "#### UNION"
   ]
  },
  {
   "cell_type": "code",
   "execution_count": 6,
   "metadata": {},
   "outputs": [
    {
     "name": "stdout",
     "output_type": "stream",
     "text": [
      "7:11:80:81:100:128:160:219:248:253:255:260:264:345:355:463:488:494:607:612:630:632:634:639:641:652:655:670:680:693:777:821:874:885:906:907:908:952:979\n",
      "1000 0.039 39\n",
      "20\n",
      "1.0\n",
      "20\n",
      "0.512820512821\n"
     ]
    }
   ],
   "source": [
    "figure = square | circle\n",
    "print figure\n",
    "print figure.vsize, figure.spa, figure.spa_nbits\n",
    "print circle / figure #overlap\n",
    "print circle // figure  #similarity\n",
    "print figure / circle\n",
    "print figure // circle"
   ]
  },
  {
   "cell_type": "markdown",
   "metadata": {},
   "source": [
    "As you can see the density went up from 0.02 to 0.04 (number of 1-bits from 20 to 40) i.e. sparsity went down.\n",
    "\n",
    "Then we check how similar one of the included operand is to the union : \n",
    "\n",
    "  - case 1 : 'circle' is included fully in the 'figure' SDP, so when it is on the left side the similarity is 100% with olap 20 bits\n",
    "  - case 2 : the other way around how similar is 'figure' to a 'circle', just 50%, the olap is still 20 bits\n",
    "  \n",
    "this is what I meant when I said similarity is asymmetric i.e. how much a 'circle' is a 'figure' in comparison to how much a 'figure' is a 'circle'.\n",
    "\n",
    "It totally make sense because human Concepts are the same way. Euclidean and cosine distance used in NN are not natural they are symmetric."
   ]
  },
  {
   "cell_type": "markdown",
   "metadata": {},
   "source": [
    "#### Concatenation"
   ]
  },
  {
   "cell_type": "code",
   "execution_count": 7,
   "metadata": {},
   "outputs": [
    {
     "name": "stdout",
     "output_type": "stream",
     "text": [
      "square:  7:11:81:100:219:248:264:345:488:607:630:632:634:639:641:655:670:777:821:906\n",
      "circle:  80:128:160:219:253:255:260:355:463:494:612:652:680:693:874:885:907:908:952:979\n",
      "figure:  7:11:81:100:219:248:264:345:488:607:630:632:634:639:641:655:670:777:821:906:1080:1128:1160:1219:1253:1255:1260:1355:1463:1494:1612:1652:1680:1693:1874:1885:1907\n",
      "1908:1952:1979\n",
      "\n",
      "2000 0.02 40\n"
     ]
    }
   ],
   "source": [
    "figure = square + circle\n",
    "print \"square: \", square\n",
    "print \"circle: \", circle\n",
    "print \"figure: \", figure\n",
    "print figure.vsize, figure.spa, figure.spa_nbits"
   ]
  },
  {
   "cell_type": "markdown",
   "metadata": {},
   "source": [
    "So as I mentioned the vsize increased, the sparsity stays the same ... but the circle part of the concatenation was shifted by 1000 bits.\n",
    "\n",
    "One drawback of this operation is that you can not compare the result with the constituents SDP's because now they have different sizes ;(\n"
   ]
  },
  {
   "cell_type": "markdown",
   "metadata": {},
   "source": [
    "#### Context Dependent Thining (CDT)"
   ]
  },
  {
   "cell_type": "code",
   "execution_count": 8,
   "metadata": {},
   "outputs": [
    {
     "name": "stdout",
     "output_type": "stream",
     "text": [
      "81:100:128:160:219:248:253:255:264:345:355:494:634:639:670:693:777:821:885:979\n",
      "1000 0.02 20\n",
      "10\n",
      "0.5\n",
      "0.5\n"
     ]
    }
   ],
   "source": [
    "figure = square * circle\n",
    "print figure\n",
    "print figure.vsize, figure.spa, figure.spa_nbits\n",
    "print circle / figure\n",
    "print circle // figure\n",
    "print figure // circle"
   ]
  },
  {
   "cell_type": "markdown",
   "metadata": {},
   "source": [
    "Hmmm ... CDT what the heck is this ?\n",
    "\n",
    "(read any paper by Dmitri A. Rachkovskij to understand more)\n",
    "\n",
    "The idea is to preserve the sparsity and the vsize. The consequence is that we can only pick part of the bits of the operands, in our case we are picking bits randomly (isdp.thin()).\n",
    "\n",
    "Functionally you can think of it as a sort of compression. The number of bits that ends up in the result is proportional to the number of the items to be thinned i.e. **1/n**.\n",
    "\n",
    "The SDP:SDR does not have bind operation as purported by the VSA 'specs', thinning in some ways is better and in some ways worse.\n",
    "\n",
    "**Binding** 'mutates' the operands so that you have to use a 'reverse-bind' operation to check if an item is part of the binding.\n",
    "\n",
    "That is good when you need to build structures with the same components or Key:Value pairs, but is opaque and requires unwinding.\n",
    "\n",
    "Thinning is more 'holistic' i.e. you can see items directly w/o additional operation, but if you want to 'mutate' items like in binding you have to permute the vectors before 'thinning'. You can not directly build Key:Value pairs.\n",
    "\n",
    "> Abstraction: Binding allows easy Dicts, Thinning allows easy Sets.\n",
    "\n",
    "So pick your poison :)\n",
    "\n",
    "Allow me to make one additional remark, HTM theory sort of rebukes the need of binding. In fact the idea of symbol BINDING has puzzled alot of people, because it doesn't make sense when you think of how the way the brain work. \n",
    "Possible solution is POOLING, SPATIAL and TEMPORAL.\n",
    "\n",
    "Let try another way of doing thinning :\n"
   ]
  },
  {
   "cell_type": "code",
   "execution_count": 9,
   "metadata": {},
   "outputs": [
    {
     "name": "stdout",
     "output_type": "stream",
     "text": [
      "80:81:128:145:160:253:255:345:425:494:607:612:630:692:777:806:821:885:906:908\n",
      "union :  1000 0.058 58\n",
      "figure:  1000 0.02 20\n",
      "9\n",
      "9\n",
      "0.45\n",
      "0.45\n"
     ]
    }
   ],
   "source": [
    "union = square | circle | rectangle\n",
    "figure = union << 0.02 #thinning shrink the spa_nbits\n",
    "# or : figure = union << 20\n",
    "print figure\n",
    "print 'union : ', union.vsize, union.spa, union.spa_nbits\n",
    "print 'figure: ', figure.vsize, figure.spa, figure.spa_nbits\n",
    "print circle / figure\n",
    "print figure / circle\n",
    "print circle // figure\n",
    "print figure // circle"
   ]
  },
  {
   "cell_type": "markdown",
   "metadata": {},
   "source": [
    "The left-shift **<<** operator can be used to thin a symbol to specific sparsity (instead of using isdp.thin())\n",
    "\n",
    "And we also see that the part of the items are proportional i.e. 1/3 =~ 0.33% similarity"
   ]
  },
  {
   "cell_type": "markdown",
   "metadata": {},
   "source": [
    "\n",
    "Those were the 3 basics ops, lets see what else we can do.\n",
    "\n",
    "#### More operations\n"
   ]
  },
  {
   "cell_type": "markdown",
   "metadata": {},
   "source": [
    "##### Permutation/Shift"
   ]
  },
  {
   "cell_type": "code",
   "execution_count": 10,
   "metadata": {},
   "outputs": [
    {
     "name": "stdout",
     "output_type": "stream",
     "text": [
      "7:11:81:100:219:248:264:345:488:607:630:632:634:639:641:655:670:777:821:906\n",
      "17:21:91:110:229:258:274:355:498:617:640:642:644:649:651:665:680:787:831:916\n",
      "997:1:71:90:209:238:254:335:478:597:620:622:624:629:631:645:660:767:811:896\n"
     ]
    }
   ],
   "source": [
    "print square\n",
    "print square >> 10\n",
    "print square >> -10"
   ]
  },
  {
   "cell_type": "markdown",
   "metadata": {},
   "source": [
    "Currently I implemented only **shift** which is a kind of permutation.\n",
    "\n",
    "Permutation is used when we want to obfuscate a symbol.\n",
    "\n",
    "F.e. let say we want to build key:value pairs :"
   ]
  },
  {
   "cell_type": "code",
   "execution_count": 11,
   "metadata": {},
   "outputs": [
    {
     "name": "stdout",
     "output_type": "stream",
     "text": [
      "vader is parent ?\n",
      "False\n",
      "True\n",
      "family = ((father,vader), (son,luke))\n",
      "False\n",
      "True\n",
      "1.0\n",
      "0.04\n",
      "family = (<father, vader>, <son,luke>)\n",
      "True\n",
      "0.55\n",
      "0.04\n"
     ]
    }
   ],
   "source": [
    "slot_father = 2\n",
    "slot_son = 4\n",
    "\n",
    "father = iSDP(vsize=1000, vsn=0.02)\n",
    "son = iSDP(vsize=1000, vsn=0.02)\n",
    "\n",
    "vader = iSDP(vsize=1000, vsn=0.02)\n",
    "luke = iSDP(vsize=1000, vsn=0.02)\n",
    "\n",
    "#key:value\n",
    "parent = vader >> slot_father\n",
    "child = luke >> slot_son\n",
    "\n",
    "print \"vader is parent ?\" \n",
    "print vader in parent\n",
    "print (vader >> slot_father) in parent\n",
    "\n",
    "print \"family = ((father,vader), (son,luke))\" \n",
    "family1 = parent | child\n",
    "print vader in family1\n",
    "print (vader >> slot_father) in family1\n",
    "print (vader >> slot_father) // family1\n",
    "print family1.spa\n",
    "\n",
    "print \"family = (<father, vader>, <son,luke>)\"\n",
    "p1 = father * vader\n",
    "p2 = son * luke\n",
    "family2 = p1 | p2\n",
    "\n",
    "print vader in family2\n",
    "print vader // family2\n",
    "print family1.spa\n"
   ]
  },
  {
   "cell_type": "markdown",
   "metadata": {},
   "source": [
    "OR a list with repeated elements ..."
   ]
  },
  {
   "cell_type": "markdown",
   "metadata": {},
   "source": [
    "### Sequence\n",
    "\n"
   ]
  },
  {
   "cell_type": "code",
   "execution_count": 12,
   "metadata": {},
   "outputs": [
    {
     "name": "stdout",
     "output_type": "stream",
     "text": [
      "True\n",
      "False\n",
      "True\n",
      "True\n"
     ]
    }
   ],
   "source": [
    "ary = (circle >> 1) | (square >> 2) | (rectangle >> 3) | (square >> 4) | square\n",
    "\n",
    "print square  in ary\n",
    "print (square >> 1) in ary\n",
    "print (square >> 2) in ary\n",
    "print (square >> 4) in ary"
   ]
  },
  {
   "cell_type": "markdown",
   "metadata": {},
   "source": [
    "I've build a Sequence class for which you can learn more in the Lexicon part of the documentation"
   ]
  },
  {
   "cell_type": "code",
   "execution_count": 13,
   "metadata": {},
   "outputs": [],
   "source": []
  },
  {
   "cell_type": "code",
   "execution_count": null,
   "metadata": {},
   "outputs": [],
   "source": []
  }
 ],
 "metadata": {
  "kernelspec": {
   "display_name": "Python 2",
   "language": "python",
   "name": "python2"
  },
  "language_info": {
   "codemirror_mode": {
    "name": "ipython",
    "version": 2
   },
   "file_extension": ".py",
   "mimetype": "text/x-python",
   "name": "python",
   "nbconvert_exporter": "python",
   "pygments_lexer": "ipython2",
   "version": "2.7.15rc1"
  }
 },
 "nbformat": 4,
 "nbformat_minor": 2
}
