{
 "cells": [
  {
   "cell_type": "markdown",
   "metadata": {},
   "source": [
    "## **Spatial Pooler/Mapper**\n",
    "\n",
    "I already mentioned what is the purpose of the Spatial Pooler (I call mine **Spatial Mapper**).\n",
    "The question is how to implement it.\n",
    "\n",
    "The implementation is a mix of HTM theory and Self Organized Map (SOM).\n",
    "\n",
    "The core is a numpy 2D array with values in the range between [0,1].\n",
    "The X axis has the size of the input SDP and the Y axis has the size of the output.\n",
    "\n",
    "You can think of a column as a pseudo-X-neuron where every row is a connection to the input Y-neuron.\n",
    "Percentage (by default 85%) of the column is randomly filled with numbers between 0 and 1.\n",
    "\n",
    "When SDP arrives at X-axis it is converted to 01-mask, the mask is multiplied across the rows and then the columns are summed /zero-rows are zeroed, one-rows are kept/. The columns (def:2%) with the higher sum (winner takes all) are chosen for update. \n",
    "\n",
    "*We also filter the values below a threshold (def:0.1) and exclude them from the sum.*\n",
    "\n",
    "Now that we have the Y-winner cols we apply the update to 1 and 0 rows according to the following two formulas :\n",
    "\n",
    "     ones += learn_rate * ( 1 - ones)\n",
    "     zeros += unlearn_rate * ( 0 - zeros)\n",
    "     \n",
    "this forces the updated values to move on a **S-curve** between 0 and 1 as they are updated.\n",
    "\n",
    "> the unlearn rate has to be much smaller than the learn rate\n",
    "\n",
    "So far so good, but we have a small problem, the algorithm so far will tend to use the most popular columns and not use the rest. To fix that we **boost** of the rarely used columns.\n",
    "\n",
    "During the learning phase we count every use of a column and based on this create a score which becomes smaller for highly used columns and vs versa. This score then is used in the calculating the WTA-sum.\n",
    "\n",
    "Here is how the sum operation looks :\n",
    "\n",
    "```\n",
    "olap = np.sum((input.reshape(-1,1) * self.weight_matrix) > self.permanence_thresh, axis=0)\n",
    "if boost : olap = (olap * self.boost)\n",
    "```\n",
    "\n",
    "So let see it in action :\n"
   ]
  },
  {
   "cell_type": "code",
   "execution_count": 1,
   "metadata": {},
   "outputs": [
    {
     "name": "stderr",
     "output_type": "stream",
     "text": [
      "CACHEDIR=/home/raptor/.cache/matplotlib\n",
      "Using fontManager instance from /home/raptor/.cache/matplotlib/fontList.json\n",
      "backend TkAgg version unknown\n"
     ]
    }
   ],
   "source": [
    "import sys\n",
    "sys.path.extend(['../../ilib', '../../ilib/encoders', '../../ilib/modules'])\n",
    "from scalar_encoder import *\n",
    "from category_encoder import *\n",
    "from ispatial_mapper import *"
   ]
  },
  {
   "cell_type": "code",
   "execution_count": 2,
   "metadata": {},
   "outputs": [],
   "source": [
    "se = ScalarEncoder(minimum=0,maximum=100,vsize=200,spaOnbits=20)"
   ]
  },
  {
   "cell_type": "code",
   "execution_count": 3,
   "metadata": {},
   "outputs": [
    {
     "name": "stdout",
     "output_type": "stream",
     "text": [
      "> Scalar encoder -----\n",
      "min-max/range : 0-100/100\n",
      "buckets,width,n : 180,20,200\n",
      "resolution : 0.56, 0.0056%\n",
      "sparsity : 0.10, spa_nbits:20\n",
      "\n"
     ]
    }
   ],
   "source": [
    "print se.info"
   ]
  },
  {
   "cell_type": "code",
   "execution_count": 4,
   "metadata": {},
   "outputs": [],
   "source": [
    "sm = iSpatialMapper(shape=(200,1000),spa=(20,0.02))"
   ]
  },
  {
   "cell_type": "markdown",
   "metadata": {},
   "source": [
    "As I said you don't need to pretrain it, but to illustrate how it works we need to feed some random data.     "
   ]
  },
  {
   "cell_type": "code",
   "execution_count": 5,
   "metadata": {},
   "outputs": [
    {
     "name": "stdout",
     "output_type": "stream",
     "text": [
      "\n",
      "Shape: (200, 1000)\n",
      "Sparsity: (0.1, 0.02)\n",
      "ON Bits count : (20,20)\n",
      "Learn rates : (0.1, 0.01)\n",
      "Boost learn rate : 0.01 (on:True)\n",
      "Overlap match % : 0.5\n",
      "Cell conn. % : 0.85\n",
      "Permanence thresh : 0.1\n",
      "\n",
      "None\n"
     ]
    }
   ],
   "source": [
    "print sm.info"
   ]
  },
  {
   "cell_type": "markdown",
   "metadata": {},
   "source": [
    "We batch train it with 2000 random data points within the encoder value range. "
   ]
  },
  {
   "cell_type": "code",
   "execution_count": 6,
   "metadata": {},
   "outputs": [],
   "source": [
    "sm.batch_train( [ se.encode(v) for v in np.random.randint(0,100,size=2000) ] )"
   ]
  },
  {
   "cell_type": "code",
   "execution_count": 7,
   "metadata": {},
   "outputs": [
    {
     "name": "stdout",
     "output_type": "stream",
     "text": [
      "Encode 55 >  99:100:101:102:103:104:105:106:107:108:109:110:111:112:113:114:115:116:117:118\n",
      "Normalize 55 >  29:75:216:248:254:257:282:334:421:436:440:463:496:582:673:712:810:868:886:954\n"
     ]
    }
   ],
   "source": [
    "print \"Encode 55 > \", se.encode(55)\n",
    "print \"Normalize 55 > \",sm.predict(se.encode(55))"
   ]
  },
  {
   "cell_type": "markdown",
   "metadata": {},
   "source": [
    "The same input should consistenly generate the same output "
   ]
  },
  {
   "cell_type": "code",
   "execution_count": 8,
   "metadata": {},
   "outputs": [
    {
     "name": "stdout",
     "output_type": "stream",
     "text": [
      "1.0\n",
      "1.0\n",
      "1.0\n"
     ]
    }
   ],
   "source": [
    "print sm.predict(se.encode(53)) // sm.predict(se.encode(53))\n",
    "print sm.predict(se.encode(55)) // sm.predict(se.encode(55))\n",
    "print sm.predict(se.encode(57)) // sm.predict(se.encode(57))"
   ]
  },
  {
   "cell_type": "code",
   "execution_count": 9,
   "metadata": {},
   "outputs": [
    {
     "name": "stdout",
     "output_type": "stream",
     "text": [
      "17\n",
      "7\n",
      "16\n",
      "8\n"
     ]
    }
   ],
   "source": [
    "print se.encode(55) / se.encode(57)\n",
    "print sm.predict(se.encode(55)) / sm.predict(se.encode(57))\n",
    "print se.encode(55) / se.encode(53)\n",
    "print sm.predict(se.encode(55)) / sm.predict(se.encode(53))"
   ]
  },
  {
   "cell_type": "markdown",
   "metadata": {},
   "source": [
    "... should preserves similarity ratio ... the ratio will vary depending on the how encoders and Spatial mapper are configured"
   ]
  },
  {
   "cell_type": "code",
   "execution_count": 10,
   "metadata": {},
   "outputs": [
    {
     "name": "stdout",
     "output_type": "stream",
     "text": [
      "0.0\n",
      "0.0\n",
      "0.0\n",
      "0.0\n"
     ]
    }
   ],
   "source": [
    "print se.encode(55) // se.encode(40)\n",
    "print sm.predict(se.encode(55)) // sm.predict(se.encode(40))\n",
    "print se.encode(55) // se.encode(70)\n",
    "print sm.predict(se.encode(55)) // sm.predict(se.encode(70))\n"
   ]
  },
  {
   "cell_type": "markdown",
   "metadata": {},
   "source": [
    "at some point the similarity drops to zero.\n",
    "\n",
    "### Pretrain\n",
    "\n",
    "Earlier we trained SMap with random values. There is method for that.\n"
   ]
  },
  {
   "cell_type": "code",
   "execution_count": null,
   "metadata": {},
   "outputs": [],
   "source": []
  },
  {
   "cell_type": "markdown",
   "metadata": {},
   "source": [
    "### Lexicon + SM.encode/decode \n",
    "\n",
    "In addition you can use as a shortcut SMap own encode method. \n",
    "\n",
    "   Forward/encode : Value => Encoder => SMap => iSDP\n",
    "\n",
    "this method saves us time by encoding-and-then-mapping the value.\n"
   ]
  },
  {
   "cell_type": "code",
   "execution_count": null,
   "metadata": {},
   "outputs": [],
   "source": []
  },
  {
   "cell_type": "markdown",
   "metadata": {},
   "source": [
    "\n",
    "Plus you may need given the iSDP similar to some SM generated vector get back the encoded-symbol i.e. decode() \n",
    "You have to think about it because this is not trivial operation.\n",
    "The reason is that we have two processes ... \n",
    "\n",
    "   Forward/encode : Value => Encoder => SMap => iSDP\n",
    "   Backward/decode : ~iSDP => correct iSDP => Encoder => Value\n",
    "   \n",
    "Spatial Mapper mapping is not reversable, so we have to build somehow a Map to do that.\n",
    "Luckily we have Lexicon, where we ca store symbol <=> iSDP map.\n",
    "So what we can do is every time we encode and SMap a symbol, we store the output-iSDP and the symbol in a lexicon. Later when we decode something that returns iSDP that have to be reversed we use this map.\n",
    "Of course nothing is free this lexicon takes memory. Also you have to use SMap encode() method which builds this map on the forward pass."
   ]
  },
  {
   "cell_type": "code",
   "execution_count": null,
   "metadata": {},
   "outputs": [],
   "source": []
  }
 ],
 "metadata": {
  "kernelspec": {
   "display_name": "Python 2",
   "language": "python",
   "name": "python2"
  },
  "language_info": {
   "codemirror_mode": {
    "name": "ipython",
    "version": 2
   },
   "file_extension": ".py",
   "mimetype": "text/x-python",
   "name": "python",
   "nbconvert_exporter": "python",
   "pygments_lexer": "ipython2",
   "version": "2.7.15rc1"
  }
 },
 "nbformat": 4,
 "nbformat_minor": 2
}
