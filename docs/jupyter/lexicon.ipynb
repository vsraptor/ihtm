{
 "cells": [
  {
   "cell_type": "markdown",
   "metadata": {},
   "source": [
    "### Lexicon\n",
    "\n",
    "At some point it becomes tiresome to create variables for every symbol we need.\n",
    "In addition having separate variables doesnt allow us to search for similar symbols, for this reason I created a Lexicon class.\n",
    "\n",
    "In VSA literature this is known also as Cleanup memory (CUP), Why ?\n",
    "\n",
    "(Read more at bbHTM link)\n",
    "\n",
    "Because when you manipulate symbols you build blends the result after several operations accumulate noise you need to clean it up to the closest clean item.\n",
    "This is where CUP comes in ... you just store all clean vectors and do best match search.\n"
   ]
  },
  {
   "cell_type": "code",
   "execution_count": 1,
   "metadata": {},
   "outputs": [],
   "source": [
    "import sys\n",
    "sys.path.extend(['../../ilib'])\n",
    "from ilexicon import *"
   ]
  },
  {
   "cell_type": "code",
   "execution_count": 2,
   "metadata": {},
   "outputs": [
    {
     "name": "stdout",
     "output_type": "stream",
     "text": [
      "22:26:109:199:207:235:237:353:462:575:584:612:651:708:717:924:993:1028:1084:1154:1165:1174:1233:1241:1272:1298:1300:1388:1429:1437:1463:1507:1579:1598:1632:1692\n",
      "1695:1771:1830:1901\n",
      "\n"
     ]
    }
   ],
   "source": [
    "x = iLexicon(vsize=2000, spaOnbits=0.02)\n",
    "\n",
    "x.add('circle')\n",
    "x.add('square')\n",
    "x.add_items(['one', 'two', 'three'])\n",
    "\n",
    "print x.circle"
   ]
  },
  {
   "cell_type": "markdown",
   "metadata": {},
   "source": [
    "After we create the iLexicon object just use .add methods to add symbols. In case you dont provide an iSDP it will be randomly generated.\n",
    "Once created you can access the symbols as object attribute, by dict key or index.\n",
    "\n",
    "For quick tests just call .az() method to create 26 symbols with names from 'a' to 'z'."
   ]
  },
  {
   "cell_type": "code",
   "execution_count": 3,
   "metadata": {},
   "outputs": [],
   "source": [
    "x.az()"
   ]
  },
  {
   "cell_type": "code",
   "execution_count": 4,
   "metadata": {},
   "outputs": [
    {
     "name": "stdout",
     "output_type": "stream",
     "text": [
      "0.575\n",
      "0.275\n",
      "0.15\n",
      "0.075\n",
      "\n",
      "0.325\n"
     ]
    }
   ],
   "source": [
    "print (x.a * x.b) // x.a\n",
    "print (x.a * x.b * x.c) // x.a\n",
    "print (x.a * x.b * x.c * x.d) // x.a\n",
    "print (x.a * x.b * x.c * x.d * x.e) // x.a\n",
    "print\n",
    "print isdp.thin(isdp.union([x.a, x.b, x.c, x.d]), 0.02) // x.a"
   ]
  },
  {
   "cell_type": "markdown",
   "metadata": {},
   "source": [
    "here we can see how adding one more symbol to the operation decreaces the percentage of bits that are included in the result ... "
   ]
  },
  {
   "cell_type": "code",
   "execution_count": 5,
   "metadata": {},
   "outputs": [
    {
     "name": "stdout",
     "output_type": "stream",
     "text": [
      "0.519480519481\n",
      "0.344827586207\n",
      "0.258064516129\n",
      "0.20942408377\n"
     ]
    }
   ],
   "source": [
    "print (x.a | x.b) // x.a\n",
    "print (x.a | x.b | x.c) // x.a\n",
    "print (x.a | x.b | x.c | x.d) // x.a\n",
    "print (x.a | x.b | x.c | x.d | x.e) // x.a"
   ]
  },
  {
   "cell_type": "code",
   "execution_count": 6,
   "metadata": {},
   "outputs": [
    {
     "name": "stdout",
     "output_type": "stream",
     "text": [
      "1.0\n",
      "1.0\n",
      "1.0\n",
      "1.0\n"
     ]
    }
   ],
   "source": [
    "print x.a // (x.a | x.b) \n",
    "print x.a // (x.a | x.b | x.c)\n",
    "print x.a // (x.a | x.b | x.c | x.d)\n",
    "print x.a // (x.a | x.b | x.c | x.d | x.e)"
   ]
  },
  {
   "cell_type": "code",
   "execution_count": 7,
   "metadata": {},
   "outputs": [
    {
     "data": {
      "text/plain": [
       "'z'"
      ]
     },
     "execution_count": 7,
     "metadata": {},
     "output_type": "execute_result"
    }
   ],
   "source": [
    "x.bm(x.z)"
   ]
  },
  {
   "cell_type": "code",
   "execution_count": 8,
   "metadata": {},
   "outputs": [],
   "source": [
    "x.permuted_syms(syms='abc', repeat=2)"
   ]
  },
  {
   "cell_type": "code",
   "execution_count": 9,
   "metadata": {},
   "outputs": [
    {
     "data": {
      "text/plain": [
       "71:91:125:206:247:270:347:416:581:732:764:792:798:848:913:914:946:995:1169:1179:1215:1223:1249:1287:1331:1348:1406:1412:1423:1494:1521:1592:1611:1716:1727:1833\n",
       "1841:1899:1913:1987"
      ]
     },
     "execution_count": 9,
     "metadata": {},
     "output_type": "execute_result"
    }
   ],
   "source": [
    "x.ac"
   ]
  },
  {
   "cell_type": "code",
   "execution_count": 10,
   "metadata": {},
   "outputs": [
    {
     "data": {
      "text/plain": [
       "['a', 'ab', 'b']"
      ]
     },
     "execution_count": 10,
     "metadata": {},
     "output_type": "execute_result"
    }
   ],
   "source": [
    "x.bt(x.a, topn=3 )"
   ]
  },
  {
   "cell_type": "code",
   "execution_count": 11,
   "metadata": {},
   "outputs": [
    {
     "name": "stdout",
     "output_type": "stream",
     "text": [
      "1.0\n",
      "1.0\n"
     ]
    }
   ],
   "source": [
    "ix = x.bixs(x.a)[0]\n",
    "print x[ix] // x.a\n",
    "print x['a'] // x.a"
   ]
  },
  {
   "cell_type": "code",
   "execution_count": 12,
   "metadata": {},
   "outputs": [
    {
     "data": {
      "text/plain": [
       "23"
      ]
     },
     "execution_count": 12,
     "metadata": {},
     "output_type": "execute_result"
    }
   ],
   "source": [
    "x.a / x.ab"
   ]
  },
  {
   "cell_type": "code",
   "execution_count": 13,
   "metadata": {},
   "outputs": [
    {
     "data": {
      "text/plain": [
       "True"
      ]
     },
     "execution_count": 13,
     "metadata": {},
     "output_type": "execute_result"
    }
   ],
   "source": [
    "x.a in x.ab"
   ]
  },
  {
   "cell_type": "code",
   "execution_count": 14,
   "metadata": {},
   "outputs": [
    {
     "data": {
      "text/plain": [
       "True"
      ]
     },
     "execution_count": 14,
     "metadata": {},
     "output_type": "execute_result"
    }
   ],
   "source": [
    "x.a == x.a"
   ]
  },
  {
   "cell_type": "code",
   "execution_count": 15,
   "metadata": {},
   "outputs": [
    {
     "name": "stdout",
     "output_type": "stream",
     "text": [
      "Shape : (100, 40)\n",
      "Sparsity : 0.02\n",
      "Dynamic Memory :==================\n",
      "items:37, max items:100, spa-nbits:40\n",
      "grow % : 0.1, size: 2000\n"
     ]
    }
   ],
   "source": [
    "print x.info"
   ]
  },
  {
   "cell_type": "markdown",
   "metadata": {},
   "source": [
    "### Sequences"
   ]
  },
  {
   "cell_type": "code",
   "execution_count": 16,
   "metadata": {},
   "outputs": [],
   "source": [
    "from sequence import *"
   ]
  },
  {
   "cell_type": "code",
   "execution_count": 19,
   "metadata": {},
   "outputs": [],
   "source": [
    "s = Sequence(lex=x)\n",
    "s.add(x.a)\n",
    "s.add(x.b)\n",
    "s.add(x.c)\n",
    "s.add(x.d)"
   ]
  },
  {
   "cell_type": "code",
   "execution_count": 22,
   "metadata": {},
   "outputs": [
    {
     "data": {
      "text/plain": [
       "'a'"
      ]
     },
     "execution_count": 22,
     "metadata": {},
     "output_type": "execute_result"
    }
   ],
   "source": [
    "s[1]"
   ]
  },
  {
   "cell_type": "code",
   "execution_count": 23,
   "metadata": {},
   "outputs": [
    {
     "data": {
      "text/plain": [
       "['a', 'b', 'c']"
      ]
     },
     "execution_count": 23,
     "metadata": {},
     "output_type": "execute_result"
    }
   ],
   "source": [
    "s[1:4]"
   ]
  },
  {
   "cell_type": "code",
   "execution_count": null,
   "metadata": {},
   "outputs": [],
   "source": []
  }
 ],
 "metadata": {
  "kernelspec": {
   "display_name": "Python 2",
   "language": "python",
   "name": "python2"
  },
  "language_info": {
   "codemirror_mode": {
    "name": "ipython",
    "version": 2
   },
   "file_extension": ".py",
   "mimetype": "text/x-python",
   "name": "python",
   "nbconvert_exporter": "python",
   "pygments_lexer": "ipython2",
   "version": "2.7.15rc1"
  }
 },
 "nbformat": 4,
 "nbformat_minor": 2
}
