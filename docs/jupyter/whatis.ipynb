{
 "cells": [
  {
   "cell_type": "markdown",
   "metadata": {},
   "source": [
    "## **What is this ?**\n",
    "\n",
    "This is Brain inspired modular framework which implements or purport to implement a system to solve problems in autonomous way.\n",
    "\n",
    "There are many way people try to do that. The most popular is the mathematical way used in Neuro Networks and other Machine Learning algorithms. Another one is to mimic the Brain at different level of abstraction in a projects such as Numenta HTM or systems like Nengo/NEF.\n",
    "Or yet another one like ACT-R and SOAR which represent the Symbolic trend.\n",
    "\n",
    "I'm looking to create a hybrid which allows Symbols and is inspired by the Brain but at some point can be mathematized.\n",
    "\n",
    "Starting with :\n",
    "\n",
    "  1. Vector Symbolic Architecture (VSA)\n",
    "  2. Adapted HTM theory implemented in a modular way\n",
    "  3. Sparse Distributed : Reinforcement learning (still in idea/design stage)\n",
    "  4. VSA based planning, leveraging HTM ?! (aspiration)\n",
    "  5. if I reach this point the system will be ready to rock ;)\n",
    "  \n",
    "VSA is symbolic architecture that is based on sparse binary vectors.\n",
    "Think about it as a sort of Brain Symbol Algebra.\n",
    "\n",
    "HTM is a theory of how brain neocortex works by Numenta.\n",
    "Numenta framework is replicating very close understood Brain mechanisms, what I'm doing is more in the Brain-inspired category, by leveraging the discoveries made by Numenta.\n",
    "\n",
    "I'm trying to build functional Modules that communicate via distributed vectors and are simple enough for lego practice, rather than direct neuron implementations.\n",
    "\n",
    "This has been an ongoing project of mine I've done parts in various ways.\n",
    "\n",
    "You can read about them here :\n",
    "\n",
    "* [Bare bone HTM](http://www.igrok.site/bbHTM.html) (this one has a logical error in the implementation but otherwise is good documentation of some early ideas)\n",
    "* [Bi (VSA, Kanerva SDP:BSC, Prolog)](http://www.igrok.site/bi/TOC.html)\n",
    "  \n",
    "---\n",
    "\n",
    "### Why not just use NN ??\n",
    "\n",
    "But why not just use Deep NN and not bother about it ?\n",
    "\n",
    "First Deep NN are no fun :) and need too much hardware.\n",
    "\n",
    "Second DNN are nothing like the Brain ! Point-neuron is a mathematical-crutch.\n",
    "\n",
    "Third because of the way they are build NN can't handle too many Output classes neither Local not Distributed output vectors. So it is not possible or easy to classify say 1000 classes.\n",
    "\n",
    "Forth Symbolic manipulation is non existent.\n",
    "\n",
    "Fifth : The entry into Research requires great math skills. I'm more interested in first Conceptually groking the ideas and only after that going with the math.\n",
    "It is more probable to discover something in area where less people are working.\n",
    "\n",
    "Six: It is an excuse to learn something about the brain.\n"
   ]
  }
 ],
 "metadata": {
  "kernelspec": {
   "display_name": "Python 2",
   "language": "python",
   "name": "python2"
  },
  "language_info": {
   "codemirror_mode": {
    "name": "ipython",
    "version": 2
   },
   "file_extension": ".py",
   "mimetype": "text/x-python",
   "name": "python",
   "nbconvert_exporter": "python",
   "pygments_lexer": "ipython2",
   "version": "2.7.15rc1"
  }
 },
 "nbformat": 4,
 "nbformat_minor": 2
}
