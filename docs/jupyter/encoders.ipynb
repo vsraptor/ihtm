{
 "cells": [
  {
   "cell_type": "markdown",
   "metadata": {},
   "source": [
    "## **Encoders**\n",
    "\n",
    "I have implemented Scalar, Category and MultiEncoder\n",
    "\n",
    "Here is how to use them :\n"
   ]
  },
  {
   "cell_type": "code",
   "execution_count": 9,
   "metadata": {},
   "outputs": [],
   "source": [
    "import sys\n",
    "sys.path.extend(['../../ilib', '../../ilib/encoders', '../../ilib/modules'])\n",
    "from scalar_encoder import *\n",
    "from category_encoder import *\n",
    "from multi_encoder import *"
   ]
  },
  {
   "cell_type": "markdown",
   "metadata": {},
   "source": [
    "### Scalar encoder"
   ]
  },
  {
   "cell_type": "code",
   "execution_count": 6,
   "metadata": {},
   "outputs": [],
   "source": [
    "se = ScalarEncoder(minimum=0,maximum=100,vsize=100,spaOnbits=0.1)"
   ]
  },
  {
   "cell_type": "code",
   "execution_count": 7,
   "metadata": {},
   "outputs": [
    {
     "data": {
      "text/plain": [
       "49:50:51:52:53:54:55:56:57:58"
      ]
     },
     "execution_count": 7,
     "metadata": {},
     "output_type": "execute_result"
    }
   ],
   "source": [
    "se.encode(55)"
   ]
  },
  {
   "cell_type": "code",
   "execution_count": 8,
   "metadata": {},
   "outputs": [
    {
     "data": {
      "text/plain": [
       "55.000"
      ]
     },
     "execution_count": 8,
     "metadata": {},
     "output_type": "execute_result"
    }
   ],
   "source": [
    "se.decode(se.encode(55))"
   ]
  },
  {
   "cell_type": "code",
   "execution_count": 16,
   "metadata": {},
   "outputs": [
    {
     "name": "stdout",
     "output_type": "stream",
     "text": [
      "> Scalar encoder -----\n",
      "min-max/range : 0-100/100\n",
      "buckets,width,n : 90,10,100\n",
      "resolution : 1.11, 0.0111%\n",
      "sparsity : 0.10, spa_nbits:10\n",
      "\n"
     ]
    }
   ],
   "source": [
    "print se.info"
   ]
  },
  {
   "cell_type": "markdown",
   "metadata": {},
   "source": [
    "### Category encoder"
   ]
  },
  {
   "cell_type": "code",
   "execution_count": 10,
   "metadata": {},
   "outputs": [],
   "source": [
    "cat = CategoryEncoder(ncats=5, vsize=50)"
   ]
  },
  {
   "cell_type": "code",
   "execution_count": 11,
   "metadata": {},
   "outputs": [
    {
     "data": {
      "text/plain": [
       "30:31:32:33:34:35:36:37:38:39"
      ]
     },
     "execution_count": 11,
     "metadata": {},
     "output_type": "execute_result"
    }
   ],
   "source": [
    "cat.encode(3)"
   ]
  },
  {
   "cell_type": "code",
   "execution_count": 12,
   "metadata": {},
   "outputs": [
    {
     "data": {
      "text/plain": [
       "3.000"
      ]
     },
     "execution_count": 12,
     "metadata": {},
     "output_type": "execute_result"
    }
   ],
   "source": [
    "se.decode(se.encode(3))"
   ]
  },
  {
   "cell_type": "code",
   "execution_count": 17,
   "metadata": {},
   "outputs": [
    {
     "name": "stdout",
     "output_type": "stream",
     "text": [
      "> Category encoder -----\n",
      "Num of categories : 5\n",
      "Num of bits : 50\n",
      "sparsity : 0.20, spa_nbits:10\n",
      "\n"
     ]
    }
   ],
   "source": [
    "print cat.info"
   ]
  },
  {
   "cell_type": "markdown",
   "metadata": {},
   "source": [
    "### Multi encoder"
   ]
  },
  {
   "cell_type": "code",
   "execution_count": 13,
   "metadata": {},
   "outputs": [],
   "source": [
    "multi = MultiEncoder(encoders=[se,cat])"
   ]
  },
  {
   "cell_type": "code",
   "execution_count": 14,
   "metadata": {},
   "outputs": [
    {
     "data": {
      "text/plain": [
       "49:50:51:52:53:54:55:56:57:58:80:81:82:83:84:85:86:87:88:89"
      ]
     },
     "execution_count": 14,
     "metadata": {},
     "output_type": "execute_result"
    }
   ],
   "source": [
    "multi.encode([55,3])"
   ]
  },
  {
   "cell_type": "markdown",
   "metadata": {},
   "source": [
    "> NotImplemented : `multi.decode(multi.encode([55,3]))`"
   ]
  },
  {
   "cell_type": "code",
   "execution_count": 18,
   "metadata": {},
   "outputs": [
    {
     "name": "stdout",
     "output_type": "stream",
     "text": [
      "=====================================\n",
      "> Scalar encoder -----\n",
      "min-max/range : 0-100/100\n",
      "buckets,width,n : 90,10,100\n",
      "resolution : 1.11, 0.0111%\n",
      "sparsity : 0.10, spa_nbits:10\n",
      "-----------------------------------\n",
      "> Category encoder -----\n",
      "Num of categories : 5\n",
      "Num of bits : 50\n",
      "sparsity : 0.20, spa_nbits:10\n",
      "-----------------------------------\n",
      "Total number of bits : 150\n",
      "Sparsity : 0.133333333333\n",
      "Sparse bits : 20\n",
      "\n"
     ]
    }
   ],
   "source": [
    "print multi.info"
   ]
  },
  {
   "cell_type": "code",
   "execution_count": null,
   "metadata": {},
   "outputs": [],
   "source": []
  }
 ],
 "metadata": {
  "kernelspec": {
   "display_name": "Python 2",
   "language": "python",
   "name": "python2"
  },
  "language_info": {
   "codemirror_mode": {
    "name": "ipython",
    "version": 2
   },
   "file_extension": ".py",
   "mimetype": "text/x-python",
   "name": "python",
   "nbconvert_exporter": "python",
   "pygments_lexer": "ipython2",
   "version": "2.7.15rc1"
  }
 },
 "nbformat": 4,
 "nbformat_minor": 2
}
